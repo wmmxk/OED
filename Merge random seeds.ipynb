{
 "cells": [
  {
   "cell_type": "code",
   "execution_count": 4,
   "metadata": {
    "collapsed": true
   },
   "outputs": [],
   "source": [
    "import glob\n",
    "import os\n",
    "import pandas as pd"
   ]
  },
  {
   "cell_type": "code",
   "execution_count": 14,
   "metadata": {},
   "outputs": [],
   "source": [
    "data_dir = \"../../OED_real_data_data\""
   ]
  },
  {
   "cell_type": "code",
   "execution_count": 50,
   "metadata": {},
   "outputs": [],
   "source": [
    "gene_id = 100\n",
    "method= \"EN\"\n",
    "res_paths = glob.glob(data_dir+\"/gene_id%d-random_seed*/%s/every_1_iter_num_24_error.csv\"%(gene_id,method))\n",
    "dfs = [pd.read_csv(res_path) for res_path in res_paths]\n",
    "df_concat = pd.concat(dfs)\n",
    "df_mean = df_concat.groupby([df_concat.index]).mean()\n",
    "df_std = df_concat.groupby([df_concat.index]).std()"
   ]
  }
 ],
 "metadata": {
  "kernelspec": {
   "display_name": "Python 3",
   "language": "python",
   "name": "python3"
  },
  "language_info": {
   "codemirror_mode": {
    "name": "ipython",
    "version": 3
   },
   "file_extension": ".py",
   "mimetype": "text/x-python",
   "name": "python",
   "nbconvert_exporter": "python",
   "pygments_lexer": "ipython3",
   "version": "3.6.1"
  }
 },
 "nbformat": 4,
 "nbformat_minor": 2
}
